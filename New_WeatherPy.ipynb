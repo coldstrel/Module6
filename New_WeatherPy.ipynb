{
 "cells": [
  {
   "cell_type": "code",
   "execution_count": null,
   "source": [
    "# 1. Import our dependencies and initialize counter and an empy list that will hold the weather data.\r\n",
    "# 2. Loop trough the cities list\r\n",
    "# 3. Group the cities in sets of 50 to log the process as we find the weather data for each city\r\n",
    "#     3.1. Two counter will be needed here: one to log the city count from 1 to 50, and another for the sets\r\n",
    "# 4. Build the city_url or endpoint for each city\r\n",
    "# 5. Log the URL and the record and set numbers\r\n",
    "# 6. Make an API request for each city\r\n",
    "# 7. Parse the JSON weather data for the following\r\n",
    "#     City, country, and date\r\n",
    "#     Latitude and longitude\r\n",
    "#     Maximum temperature\r\n",
    "#     Humidity\r\n",
    "#     Cloudiness\r\n",
    "#     Wind speed\r\n",
    "# 8. Add the data to a list in a dictionary format and then convert the list to a DataFrame\r\n"
   ],
   "outputs": [],
   "metadata": {}
  },
  {
   "cell_type": "code",
   "execution_count": null,
   "source": [],
   "outputs": [],
   "metadata": {}
  }
 ],
 "metadata": {
  "orig_nbformat": 4,
  "language_info": {
   "name": "python",
   "version": "3.8.8"
  },
  "kernelspec": {
   "name": "python3",
   "display_name": "Python 3.8.8 64-bit ('base': conda)"
  },
  "interpreter": {
   "hash": "2f23cf5811b7e022e5679154ab8eb4978d60014293737530ccaf6faa0cec719d"
  }
 },
 "nbformat": 4,
 "nbformat_minor": 2
}