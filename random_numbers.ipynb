{
 "metadata": {
  "language_info": {
   "codemirror_mode": {
    "name": "ipython",
    "version": 3
   },
   "file_extension": ".py",
   "mimetype": "text/x-python",
   "name": "python",
   "nbconvert_exporter": "python",
   "pygments_lexer": "ipython3",
   "version": "3.9.1"
  },
  "orig_nbformat": 4,
  "kernelspec": {
   "name": "python3",
   "display_name": "Python 3.9.1 64-bit"
  },
  "interpreter": {
   "hash": "cb94b019728e6da3041a72b9efc996597b14a7249afdf162f2647c10aca50bec"
  }
 },
 "nbformat": 4,
 "nbformat_minor": 2,
 "cells": [
  {
   "cell_type": "code",
   "execution_count": 4,
   "source": [
    "# Import the random module\r\n",
    "import random"
   ],
   "outputs": [],
   "metadata": {}
  },
  {
   "cell_type": "code",
   "execution_count": 5,
   "source": [
    "random.randint(-90, 90)"
   ],
   "outputs": [
    {
     "output_type": "execute_result",
     "data": {
      "text/plain": [
       "-59"
      ]
     },
     "metadata": {},
     "execution_count": 5
    }
   ],
   "metadata": {}
  },
  {
   "cell_type": "code",
   "execution_count": 6,
   "source": [
    "random.random()"
   ],
   "outputs": [
    {
     "output_type": "execute_result",
     "data": {
      "text/plain": [
       "0.17081011670594726"
      ]
     },
     "metadata": {},
     "execution_count": 6
    }
   ],
   "metadata": {}
  },
  {
   "cell_type": "code",
   "execution_count": 7,
   "source": [
    "random_number = random.randint(-90, 89) + random.random()\r\n",
    "random_number"
   ],
   "outputs": [
    {
     "output_type": "execute_result",
     "data": {
      "text/plain": [
       "-27.273823732383946"
      ]
     },
     "metadata": {},
     "execution_count": 7
    }
   ],
   "metadata": {}
  },
  {
   "cell_type": "code",
   "execution_count": 8,
   "source": [
    "x = 1\r\n",
    "latitudes = []\r\n",
    "while x < 11:\r\n",
    "    random_lat = random.randint(-90, 89) + random.random()\r\n",
    "    latitudes.append(random_lat)\r\n",
    "    x += 1\r\n",
    "latitudes"
   ],
   "outputs": [
    {
     "output_type": "execute_result",
     "data": {
      "text/plain": [
       "[-70.66596071748974,\n",
       " -65.49778821371062,\n",
       " 4.327006389109605,\n",
       " -50.92100454536078,\n",
       " -23.256227750145843,\n",
       " 19.993719563034954,\n",
       " 35.801588663915666,\n",
       " 63.22066227333817,\n",
       " -78.32313755550061,\n",
       " 41.86453576125971]"
      ]
     },
     "metadata": {},
     "execution_count": 8
    }
   ],
   "metadata": {}
  },
  {
   "cell_type": "code",
   "execution_count": 9,
   "source": [
    "random.randrange(-90, 90, step=1)"
   ],
   "outputs": [
    {
     "output_type": "execute_result",
     "data": {
      "text/plain": [
       "-18"
      ]
     },
     "metadata": {},
     "execution_count": 9
    }
   ],
   "metadata": {}
  },
  {
   "cell_type": "code",
   "execution_count": 10,
   "source": [
    "random.randrange(-90, 90, step=3)"
   ],
   "outputs": [
    {
     "output_type": "execute_result",
     "data": {
      "text/plain": [
       "-6"
      ]
     },
     "metadata": {},
     "execution_count": 10
    }
   ],
   "metadata": {}
  },
  {
   "cell_type": "code",
   "execution_count": 11,
   "source": [
    "# Import the NumPy module\r\n",
    "import numpy as np"
   ],
   "outputs": [],
   "metadata": {}
  },
  {
   "cell_type": "code",
   "execution_count": 12,
   "source": [
    "np.random.uniform(-90.000, 90.000, size=50)"
   ],
   "outputs": [
    {
     "output_type": "execute_result",
     "data": {
      "text/plain": [
       "array([ 33.18894907,  28.98926159, -55.2952437 , -57.57684631,\n",
       "       -78.24495993,  71.61987294,  60.62925577,  79.88719905,\n",
       "       -66.55587483,   7.39155518, -84.91422515, -63.69359345,\n",
       "        56.33765836, -17.34640328,  38.91608157,  32.59102989,\n",
       "        25.75311455,  10.77904235,   2.73838132, -85.80159145,\n",
       "        34.15553744, -40.83631674,  86.21504524,  11.3666457 ,\n",
       "       -59.84674667,  15.68692398,   4.71142963, -41.27242826,\n",
       "        -7.96715345, -12.73228616, -21.95778089, -83.8669469 ,\n",
       "         4.5703465 ,  13.75699639, -31.79622314,  49.41935969,\n",
       "       -36.91782668, -56.72276358,  21.41091912, -79.38418099,\n",
       "       -22.85620002, -65.27257401,  22.43541304, -35.89277735,\n",
       "       -79.89558328, -55.49087245, -15.11121106, -43.65366253,\n",
       "        15.00397054, -47.66357931])"
      ]
     },
     "metadata": {},
     "execution_count": 12
    }
   ],
   "metadata": {}
  },
  {
   "cell_type": "code",
   "execution_count": 13,
   "source": [
    "# Import timeit\r\n",
    "import timeit\r\n"
   ],
   "outputs": [],
   "metadata": {}
  },
  {
   "cell_type": "code",
   "execution_count": 14,
   "source": [
    "%timeit np.random.uniform(-90.000, 90.000, size=1500)"
   ],
   "outputs": [
    {
     "output_type": "stream",
     "name": "stdout",
     "text": [
      "21.9 µs ± 3.65 µs per loop (mean ± std. dev. of 7 runs, 10000 loops each)\n"
     ]
    }
   ],
   "metadata": {}
  },
  {
   "cell_type": "code",
   "execution_count": 15,
   "source": [
    "def latitudes(size):\r\n",
    "    latitudes = []\r\n",
    "    x = 0\r\n",
    "    while x < (size):\r\n",
    "        random_lat = random.randint(-90, 90) + random.random()\r\n",
    "        latitudes.append(random_lat)\r\n",
    "        x += 1\r\n",
    "    return latitudes\r\n",
    "# Call the function with 1500.\r\n",
    "%timeit latitudes(1500)"
   ],
   "outputs": [
    {
     "output_type": "stream",
     "name": "stdout",
     "text": [
      "1.78 ms ± 388 µs per loop (mean ± std. dev. of 7 runs, 100 loops each)\n"
     ]
    }
   ],
   "metadata": {}
  },
  {
   "cell_type": "code",
   "execution_count": 17,
   "source": [
    "import requests"
   ],
   "outputs": [],
   "metadata": {}
  },
  {
   "cell_type": "code",
   "execution_count": 19,
   "source": [
    " # Import the API key\r\n",
    "from config import weather_api_key"
   ],
   "outputs": [],
   "metadata": {}
  },
  {
   "cell_type": "code",
   "execution_count": 21,
   "source": [
    "# Starting URL for Weather Map API Call.\r\n",
    "url = \"http://api.openweathermap.org/data/2.5/weather?units=Imperial&APPID=\" + weather_api_key\r\n"
   ],
   "outputs": [],
   "metadata": {}
  },
  {
   "cell_type": "code",
   "execution_count": 1,
   "source": [
    "# import linear regression from the SciPy stats module\r\n",
    "from scipy.stats import linregress\r\n",
    "\r\n",
    "# Create an equal number of latitudes and temperatures.\r\n",
    "lats = [42.5, 43.9, 8.1, 36.8, 79.9, 69.1, 25.7, 15.3, 12.7, 64.5]\r\n",
    "temps = [80.5, 75.3, 90.9, 90.0, 40.4, 62.3, 85.4, 79.6, 72.5, 72.0]\r\n",
    "\r\n",
    "# Perform linear regression.\r\n",
    "(slope, intercept, r_value, p_value, std_err) = linregress(lats, temps)\r\n",
    "# Get the equation of the line.\r\n",
    "line_eq = \"y = \" + str(round(slope,2)) + \"x + \" + str(round(intercept,2))\r\n",
    "print(line_eq)\r\n",
    "print(f\"The p-value is: {p_value:.3f}\")"
   ],
   "outputs": [
    {
     "output_type": "stream",
     "name": "stdout",
     "text": [
      "y = -0.45x + 92.94\n",
      "The p-value is: 0.011\n"
     ]
    }
   ],
   "metadata": {}
  },
  {
   "cell_type": "code",
   "execution_count": 2,
   "source": [
    "# Calculate the regression line \"y values\" from the slope and intercept.\r\n",
    "regress_values = [(lat * slope + intercept) for lat in lats]"
   ],
   "outputs": [],
   "metadata": {}
  },
  {
   "cell_type": "code",
   "execution_count": 5,
   "source": [
    "# Import Matplotlib.\r\n",
    "import matplotlib.pyplot as plt\r\n",
    "# Create a scatter plot of the x and y values.\r\n",
    "plt.scatter(lats,temps)\r\n",
    "# Plot the regression line with the x-values and the y coordinates based on the intercept and slope.\r\n",
    "plt.plot(lats,regress_values,\"r\")\r\n",
    "# Annotate the text for the line equation and add its coordinates.\r\n",
    "plt.annotate(line_eq, (10,40), fontsize=15, color=\"red\")\r\n",
    "plt.xlabel('Latitude')\r\n",
    "plt.title(\"Scatter\")\r\n",
    "plt.ylabel('Temp')\r\n",
    "plt.show()"
   ],
   "outputs": [
    {
     "output_type": "display_data",
     "data": {
      "text/plain": [
       "<Figure size 432x288 with 1 Axes>"
      ],
      "image/png": "[encoded data removed]"
     },
     "metadata": {
      "needs_background": "light"
     }
    }
   ],
   "metadata": {}
  },
  {
   "cell_type": "code",
   "execution_count": null,
   "source": [],
   "outputs": [],
   "metadata": {}
  }
 ]
}